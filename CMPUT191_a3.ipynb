{
  "nbformat": 4,
  "nbformat_minor": 0,
  "metadata": {
    "colab": {
      "provenance": []
    },
    "kernelspec": {
      "name": "python3",
      "display_name": "Python 3"
    },
    "language_info": {
      "name": "python"
    }
  },
  "cells": [
    {
      "cell_type": "markdown",
      "source": [
        "# Sony PS5 Price Analysis\n",
        "\n",
        "by Daniel Dean, Pranav Penmetas, and Kempes Pandey"
      ],
      "metadata": {
        "id": "_H6m9AHXSKu9"
      }
    },
    {
      "cell_type": "markdown",
      "source": [
        "Today we will be looking at the difference in pricing of a popular video game console - the Sony PS5"
      ],
      "metadata": {
        "id": "FJ3pQUr8ExfP"
      }
    },
    {
      "cell_type": "code",
      "execution_count": null,
      "metadata": {
        "id": "yY7WM-McEt1P"
      },
      "outputs": [],
      "source": [
        "# importing all of the necessary packages\n",
        "# -- might need tidying up\n",
        "from datascience import *\n",
        "import numpy as np\n",
        "import re\n",
        "from re import search\n",
        "import requests\n",
        "from bs4 import BeautifulSoup\n",
        "\n",
        "%matplotlib inline\n",
        "import matplotlib.pyplot as plots\n",
        "plots.style.use('fivethirtyeight')"
      ]
    },
    {
      "cell_type": "code",
      "source": [
        "# mounting my drive to import csv files\n",
        "from google.colab import drive\n",
        "drive.mount('/content/drive')\n",
        "path = '/content/drive/MyDrive/CMPUT191_a3/'"
      ],
      "metadata": {
        "colab": {
          "base_uri": "https://localhost:8080/"
        },
        "id": "WpSw9bhiCpoL",
        "outputId": "7eb66fec-d7cd-493b-fc2b-7d82cf8df25f"
      },
      "execution_count": null,
      "outputs": [
        {
          "output_type": "stream",
          "name": "stdout",
          "text": [
            "Mounted at /content/drive\n"
          ]
        }
      ]
    },
    {
      "cell_type": "code",
      "source": [
        "# scrape_table function from video demo\n",
        "import pandas as pd\n",
        "def scrape_table(table):\n",
        "    df = pd.read_html(str(table))\n",
        "    df = pd.DataFrame(df[0])\n",
        "    return Table.from_df(df)"
      ],
      "metadata": {
        "id": "MWua1BJwFimk"
      },
      "execution_count": null,
      "outputs": []
    },
    {
      "cell_type": "code",
      "source": [
        "# currency conversion function from demo video\n",
        "def convert(cur_from, cur_to, amount):\n",
        "    payload = {\n",
        "        'from': cur_from,\n",
        "        'to': cur_to,\n",
        "        'amount': amount,\n",
        "        'api_key': '0a5659758c74b6dd01f96fdbc8fab87d'\n",
        "    }\n",
        "    r = requests.get('https://api.currencyscoop.com/v1/convert', params = payload)\n",
        "    currency = r.json()\n",
        "    return currency['response']['value']"
      ],
      "metadata": {
        "id": "VkmOpUopF2Yr"
      },
      "execution_count": null,
      "outputs": []
    },
    {
      "cell_type": "code",
      "source": [
        "# correlation function from demo video\n",
        "def standard_units(arr):\n",
        "    \"\"\" Converts an array to standard units \"\"\"\n",
        "    return (arr - np.average(arr))/np.std(arr)\n",
        "\n",
        "def correlation(t, x, y):\n",
        "    \"\"\" Computes correlation: t is a table, and x and y are column names \"\"\"\n",
        "    x_standard = standard_units(t.column(x))\n",
        "    y_standard = standard_units(t.column(y))\n",
        "    return np.average(x_standard * y_standard)"
      ],
      "metadata": {
        "id": "J7jruj_5F3TE"
      },
      "execution_count": null,
      "outputs": []
    },
    {
      "cell_type": "code",
      "source": [
        "# scrape PS5 pricing data\n",
        "ps5_pricing_url = 'https://www.theworldranking.com/statistics/160/playstation-5-prices-country/'\n",
        "ps5_request = requests.get(ps5_pricing_url)\n",
        "ps5_soup = BeautifulSoup(ps5_request.text, 'html.parser')\n",
        "ps5_table = ps5_soup.find('table')\n",
        "ps5_pricing = scrape_table(ps5_table)"
      ],
      "metadata": {
        "colab": {
          "base_uri": "https://localhost:8080/"
        },
        "collapsed": true,
        "id": "d89_SBuoF5he",
        "outputId": "8dbf165b-d1aa-4bf3-8ad4-5607b7fe3a99"
      },
      "execution_count": null,
      "outputs": [
        {
          "output_type": "stream",
          "name": "stderr",
          "text": [
            "<ipython-input-3-fa3cfb19b358>:4: FutureWarning: Passing literal html to 'read_html' is deprecated and will be removed in a future version. To read from a literal string, wrap it in a 'StringIO' object.\n",
            "  df = pd.read_html(str(table))\n"
          ]
        }
      ]
    },
    {
      "cell_type": "code",
      "source": [
        "# tidying up the data and converting to CAD\n",
        "ps5_pricing = ps5_pricing.drop('Rank').take([12, 13, 20, 29, 34, 38, 42, 43, 55, 60, 70, 71, 73, 75, 76]) # select a more managable nnumber of countries to compare\n",
        "def convert_to_CAD(price):\n",
        "  USD_to_CAD_rate = 1.41\n",
        "  return price * USD_to_CAD_rate\n",
        "\n",
        "CAD_prices = ps5_pricing.apply(convert_to_CAD, 'USD ($)')\n",
        "ps5_pricing = ps5_pricing.with_column('USD ($)', CAD_prices) # replace the prices in USD with CAD\n",
        "ps5_pricing = ps5_pricing.relabeled(\"USD ($)\", \"Price (CAD)\")\n",
        "ps5_pricing"
      ],
      "metadata": {
        "colab": {
          "base_uri": "https://localhost:8080/",
          "height": 392
        },
        "id": "U5V6fEQFIBBK",
        "outputId": "824e54bc-ae25-47f3-e418-e3ab0ca8c08e"
      },
      "execution_count": null,
      "outputs": [
        {
          "output_type": "execute_result",
          "data": {
            "text/plain": [
              "Country        | Price (CAD)\n",
              "China          | 1178.76\n",
              "Brazil         | 1154.79\n",
              "South Africa   | 1023.66\n",
              "Poland         | 943.29\n",
              "Mexico         | 909.45\n",
              "Sweden         | 896.76\n",
              "United Kingdom | 874.2\n",
              "South Korea    | 869.97\n",
              "France         | 829.08\n",
              "Russia         | 819.21\n",
              "... (5 rows omitted)"
            ],
            "text/html": [
              "<table border=\"1\" class=\"dataframe\">\n",
              "    <thead>\n",
              "        <tr>\n",
              "            <th>Country</th> <th>Price (CAD)</th>\n",
              "        </tr>\n",
              "    </thead>\n",
              "    <tbody>\n",
              "        <tr>\n",
              "            <td>China         </td> <td>1178.76    </td>\n",
              "        </tr>\n",
              "        <tr>\n",
              "            <td>Brazil        </td> <td>1154.79    </td>\n",
              "        </tr>\n",
              "        <tr>\n",
              "            <td>South Africa  </td> <td>1023.66    </td>\n",
              "        </tr>\n",
              "        <tr>\n",
              "            <td>Poland        </td> <td>943.29     </td>\n",
              "        </tr>\n",
              "        <tr>\n",
              "            <td>Mexico        </td> <td>909.45     </td>\n",
              "        </tr>\n",
              "        <tr>\n",
              "            <td>Sweden        </td> <td>896.76     </td>\n",
              "        </tr>\n",
              "        <tr>\n",
              "            <td>United Kingdom</td> <td>874.2      </td>\n",
              "        </tr>\n",
              "        <tr>\n",
              "            <td>South Korea   </td> <td>869.97     </td>\n",
              "        </tr>\n",
              "        <tr>\n",
              "            <td>France        </td> <td>829.08     </td>\n",
              "        </tr>\n",
              "        <tr>\n",
              "            <td>Russia        </td> <td>819.21     </td>\n",
              "        </tr>\n",
              "    </tbody>\n",
              "</table>\n",
              "<p>... (5 rows omitted)</p>"
            ]
          },
          "metadata": {},
          "execution_count": 7
        }
      ]
    },
    {
      "cell_type": "code",
      "source": [
        "# scrape CurrencyScoop country codes\n",
        "currency_url = \"https://currencyscoop.com/supported-currencies\"\n",
        "currency_request = requests.get(currency_url)\n",
        "currency_soup = BeautifulSoup(currency_request.text, 'html.parser')\n",
        "currency_table = currency_soup.find(\"table\")\n",
        "currency_codes = scrape_table(currency_table)"
      ],
      "metadata": {
        "colab": {
          "base_uri": "https://localhost:8080/"
        },
        "id": "h07URk-MNAus",
        "outputId": "99447970-7d43-4d40-cc9f-a52a5a3786ca"
      },
      "execution_count": null,
      "outputs": [
        {
          "output_type": "stream",
          "name": "stderr",
          "text": [
            "<ipython-input-3-fa3cfb19b358>:4: FutureWarning: Passing literal html to 'read_html' is deprecated and will be removed in a future version. To read from a literal string, wrap it in a 'StringIO' object.\n",
            "  df = pd.read_html(str(table))\n"
          ]
        }
      ]
    },
    {
      "cell_type": "code",
      "source": [
        "# getting alist of currency codes that we can add to our ps5 pricing table\n",
        "currency_codes_url = 'https://www.iban.com/currency-codes'\n",
        "cc_request = requests.get(currency_codes_url)\n",
        "cc_soup = BeautifulSoup(cc_request.text, 'html.parser')\n",
        "cc_table = cc_soup.find('table')\n",
        "currency_codes = scrape_table(cc_table)\n",
        "\n",
        "currency_codes = currency_codes.drop(\"Currency\", 'Number') # making the data nicer to look at\n",
        "#currency_codes"
      ],
      "metadata": {
        "colab": {
          "base_uri": "https://localhost:8080/"
        },
        "id": "y7yicI50NiEs",
        "outputId": "f51313c5-150c-4866-fd65-5f30be23b6e5"
      },
      "execution_count": null,
      "outputs": [
        {
          "output_type": "stream",
          "name": "stderr",
          "text": [
            "<ipython-input-3-fa3cfb19b358>:4: FutureWarning: Passing literal html to 'read_html' is deprecated and will be removed in a future version. To read from a literal string, wrap it in a 'StringIO' object.\n",
            "  df = pd.read_html(str(table))\n"
          ]
        }
      ]
    },
    {
      "cell_type": "code",
      "source": [
        "# joining the currency code table and the ps5 pricing table\n",
        "def capitalize(str):\n",
        "  return str.upper()\n",
        "\n",
        "capitalized_countries = ps5_pricing.apply(capitalize, 'Country') # capitalize the country names temporarily so that they match with currency codes table\n",
        "ps5_pricing_capital = ps5_pricing.with_column('Country (capitalized)', capitalized_countries)\n",
        "ps5_pricing_capital\n",
        "\n",
        "ps5_pricing_codes = ps5_pricing_capital.join('Country (capitalized)', currency_codes, 'Country') # add the currency codes to the ps5 pricing table\n",
        "ps5_pricing_tbl = ps5_pricing_codes.drop('Country (capitalized)').exclude(8) # removing unnecesary column and row\n",
        "ps5_pricing_tbl.show()"
      ],
      "metadata": {
        "colab": {
          "base_uri": "https://localhost:8080/",
          "height": 394
        },
        "id": "uCflL0rHPPDB",
        "outputId": "df24e561-9985-4159-9b7f-434ef9544a6f"
      },
      "execution_count": null,
      "outputs": [
        {
          "output_type": "display_data",
          "data": {
            "text/plain": [
              "<IPython.core.display.HTML object>"
            ],
            "text/html": [
              "<table border=\"1\" class=\"dataframe\">\n",
              "    <thead>\n",
              "        <tr>\n",
              "            <th>Country</th> <th>Price (CAD)</th> <th>Code</th>\n",
              "        </tr>\n",
              "    </thead>\n",
              "    <tbody>\n",
              "        <tr>\n",
              "            <td>Australia   </td> <td>741.66     </td> <td>AUD </td>\n",
              "        </tr>\n",
              "        <tr>\n",
              "            <td>Brazil      </td> <td>1154.79    </td> <td>BRL </td>\n",
              "        </tr>\n",
              "        <tr>\n",
              "            <td>Canada      </td> <td>658.47     </td> <td>CAD </td>\n",
              "        </tr>\n",
              "        <tr>\n",
              "            <td>China       </td> <td>1178.76    </td> <td>CNY </td>\n",
              "        </tr>\n",
              "        <tr>\n",
              "            <td>France      </td> <td>829.08     </td> <td>EUR </td>\n",
              "        </tr>\n",
              "        <tr>\n",
              "            <td>Germany     </td> <td>713.46     </td> <td>EUR </td>\n",
              "        </tr>\n",
              "        <tr>\n",
              "            <td>Japan       </td> <td>654.24     </td> <td>JPY </td>\n",
              "        </tr>\n",
              "        <tr>\n",
              "            <td>Mexico      </td> <td>909.45     </td> <td>MXN </td>\n",
              "        </tr>\n",
              "        <tr>\n",
              "            <td>Poland      </td> <td>943.29     </td> <td>PLN </td>\n",
              "        </tr>\n",
              "        <tr>\n",
              "            <td>South Africa</td> <td>1023.66    </td> <td>ZAR </td>\n",
              "        </tr>\n",
              "        <tr>\n",
              "            <td>Sweden      </td> <td>896.76     </td> <td>SEK </td>\n",
              "        </tr>\n",
              "    </tbody>\n",
              "</table>"
            ]
          },
          "metadata": {}
        }
      ]
    },
    {
      "cell_type": "markdown",
      "source": [
        "Now that we have the currency codes in our table, we can scrape a table that contains convertion rates for currencies from CAD and use it to find the local prices of the PS5."
      ],
      "metadata": {
        "id": "9oXAXfje6BLS"
      }
    },
    {
      "cell_type": "code",
      "source": [
        "# factoring in the local price rates\n",
        "exchange_rates = Table().read_table(path + 'exchange rates.csv')\n",
        "\n",
        "# creating a dictionary for codes and convertion rates from CAD\n",
        "exchange_rates_dict = dict()\n",
        "for row in exchange_rates.rows:\n",
        "  exchange_rates_dict[row[1]] = row[2]\n",
        "\n",
        "def convert_currency(code, exchange_rate, price):\n",
        "  # function simply converts from CAD to local currency given a code and convertion rate\n",
        "  return price * exchange_rates_dict[code]\n",
        "\n",
        "local_prices = []\n",
        "for row in ps5_pricing_tbl.rows:\n",
        "  # converting the prices for each country from CAD to local currency using the convert_currency function\n",
        "  code = row[2]\n",
        "  local_price = convert_currency(code, exchange_rates_dict[code], row[1])\n",
        "  local_prices.append(np.round(local_price, 2))\n",
        "\n",
        "ps5_pricing_tbl = ps5_pricing_tbl.with_column('Local Price', local_prices).select('Country', 'Local Price', 'Code', 'Price (CAD)') # adding local price and cleaning up\n",
        "ps5_pricing_tbl"
      ],
      "metadata": {
        "id": "tE2QWtbASVUp",
        "colab": {
          "base_uri": "https://localhost:8080/",
          "height": 392
        },
        "outputId": "ed6b872b-4cfc-4b9e-f827-f7f89c92fb5a"
      },
      "execution_count": null,
      "outputs": [
        {
          "output_type": "execute_result",
          "data": {
            "text/plain": [
              "Country      | Local Price | Code | Price (CAD)\n",
              "Australia    | 815.83      | AUD  | 741.66\n",
              "Brazil       | 4873.21     | BRL  | 1154.79\n",
              "Canada       | 658.47      | CAD  | 658.47\n",
              "China        | 6082.4      | CNY  | 1178.76\n",
              "France       | 555.48      | EUR  | 829.08\n",
              "Germany      | 478.02      | EUR  | 713.46\n",
              "Japan        | 70376.6     | JPY  | 654.24\n",
              "Mexico       | 13368.9     | MXN  | 909.45\n",
              "Poland       | 2735.54     | PLN  | 943.29\n",
              "South Africa | 13266.6     | ZAR  | 1023.66\n",
              "... (1 rows omitted)"
            ],
            "text/html": [
              "<table border=\"1\" class=\"dataframe\">\n",
              "    <thead>\n",
              "        <tr>\n",
              "            <th>Country</th> <th>Local Price</th> <th>Code</th> <th>Price (CAD)</th>\n",
              "        </tr>\n",
              "    </thead>\n",
              "    <tbody>\n",
              "        <tr>\n",
              "            <td>Australia   </td> <td>815.83     </td> <td>AUD </td> <td>741.66     </td>\n",
              "        </tr>\n",
              "        <tr>\n",
              "            <td>Brazil      </td> <td>4873.21    </td> <td>BRL </td> <td>1154.79    </td>\n",
              "        </tr>\n",
              "        <tr>\n",
              "            <td>Canada      </td> <td>658.47     </td> <td>CAD </td> <td>658.47     </td>\n",
              "        </tr>\n",
              "        <tr>\n",
              "            <td>China       </td> <td>6082.4     </td> <td>CNY </td> <td>1178.76    </td>\n",
              "        </tr>\n",
              "        <tr>\n",
              "            <td>France      </td> <td>555.48     </td> <td>EUR </td> <td>829.08     </td>\n",
              "        </tr>\n",
              "        <tr>\n",
              "            <td>Germany     </td> <td>478.02     </td> <td>EUR </td> <td>713.46     </td>\n",
              "        </tr>\n",
              "        <tr>\n",
              "            <td>Japan       </td> <td>70376.6    </td> <td>JPY </td> <td>654.24     </td>\n",
              "        </tr>\n",
              "        <tr>\n",
              "            <td>Mexico      </td> <td>13368.9    </td> <td>MXN </td> <td>909.45     </td>\n",
              "        </tr>\n",
              "        <tr>\n",
              "            <td>Poland      </td> <td>2735.54    </td> <td>PLN </td> <td>943.29     </td>\n",
              "        </tr>\n",
              "        <tr>\n",
              "            <td>South Africa</td> <td>13266.6    </td> <td>ZAR </td> <td>1023.66    </td>\n",
              "        </tr>\n",
              "    </tbody>\n",
              "</table>\n",
              "<p>... (1 rows omitted)</p>"
            ]
          },
          "metadata": {},
          "execution_count": 14
        }
      ]
    },
    {
      "cell_type": "code",
      "source": [
        "# finding the difference in price for each country\n",
        "ps5_differences = ps5_pricing_tbl.column('Price (CAD)') - ps5_pricing_tbl.where('Country', 'Canada')['Price (CAD)']\n",
        "ps5_pricing_tbl = ps5_pricing_tbl.with_column('Difference', ps5_differences)\n",
        "ps5_pricing_tbl"
      ],
      "metadata": {
        "colab": {
          "base_uri": "https://localhost:8080/",
          "height": 392
        },
        "id": "6D1QivBzVRfz",
        "outputId": "30e6c743-3e14-46c5-a84e-c404226f2fd4"
      },
      "execution_count": null,
      "outputs": [
        {
          "output_type": "execute_result",
          "data": {
            "text/plain": [
              "Country      | Local Price | Code | Price (CAD) | Difference\n",
              "Australia    | 815.83      | AUD  | 741.66      | 83.19\n",
              "Brazil       | 4873.21     | BRL  | 1154.79     | 496.32\n",
              "Canada       | 658.47      | CAD  | 658.47      | 0\n",
              "China        | 6082.4      | CNY  | 1178.76     | 520.29\n",
              "France       | 555.48      | EUR  | 829.08      | 170.61\n",
              "Germany      | 478.02      | EUR  | 713.46      | 54.99\n",
              "Japan        | 70376.6     | JPY  | 654.24      | -4.23\n",
              "Mexico       | 13368.9     | MXN  | 909.45      | 250.98\n",
              "Poland       | 2735.54     | PLN  | 943.29      | 284.82\n",
              "South Africa | 13266.6     | ZAR  | 1023.66     | 365.19\n",
              "... (1 rows omitted)"
            ],
            "text/html": [
              "<table border=\"1\" class=\"dataframe\">\n",
              "    <thead>\n",
              "        <tr>\n",
              "            <th>Country</th> <th>Local Price</th> <th>Code</th> <th>Price (CAD)</th> <th>Difference</th>\n",
              "        </tr>\n",
              "    </thead>\n",
              "    <tbody>\n",
              "        <tr>\n",
              "            <td>Australia   </td> <td>815.83     </td> <td>AUD </td> <td>741.66     </td> <td>83.19     </td>\n",
              "        </tr>\n",
              "        <tr>\n",
              "            <td>Brazil      </td> <td>4873.21    </td> <td>BRL </td> <td>1154.79    </td> <td>496.32    </td>\n",
              "        </tr>\n",
              "        <tr>\n",
              "            <td>Canada      </td> <td>658.47     </td> <td>CAD </td> <td>658.47     </td> <td>0         </td>\n",
              "        </tr>\n",
              "        <tr>\n",
              "            <td>China       </td> <td>6082.4     </td> <td>CNY </td> <td>1178.76    </td> <td>520.29    </td>\n",
              "        </tr>\n",
              "        <tr>\n",
              "            <td>France      </td> <td>555.48     </td> <td>EUR </td> <td>829.08     </td> <td>170.61    </td>\n",
              "        </tr>\n",
              "        <tr>\n",
              "            <td>Germany     </td> <td>478.02     </td> <td>EUR </td> <td>713.46     </td> <td>54.99     </td>\n",
              "        </tr>\n",
              "        <tr>\n",
              "            <td>Japan       </td> <td>70376.6    </td> <td>JPY </td> <td>654.24     </td> <td>-4.23     </td>\n",
              "        </tr>\n",
              "        <tr>\n",
              "            <td>Mexico      </td> <td>13368.9    </td> <td>MXN </td> <td>909.45     </td> <td>250.98    </td>\n",
              "        </tr>\n",
              "        <tr>\n",
              "            <td>Poland      </td> <td>2735.54    </td> <td>PLN </td> <td>943.29     </td> <td>284.82    </td>\n",
              "        </tr>\n",
              "        <tr>\n",
              "            <td>South Africa</td> <td>13266.6    </td> <td>ZAR </td> <td>1023.66    </td> <td>365.19    </td>\n",
              "        </tr>\n",
              "    </tbody>\n",
              "</table>\n",
              "<p>... (1 rows omitted)</p>"
            ]
          },
          "metadata": {},
          "execution_count": 16
        }
      ]
    },
    {
      "cell_type": "markdown",
      "source": [
        "If we use a horizontal bar chart we can easily visualize the price differences in the PS5 for the countries we selected."
      ],
      "metadata": {
        "id": "yC6DHMxCSpgR"
      }
    },
    {
      "cell_type": "code",
      "source": [
        "# plotting the difference in a horizontal bar chart\n",
        "ps5_pricing_tbl.barh('Country', 'Difference')\n",
        "plots.title('PS5 Pricing Difference')\n",
        "plots.xlabel('Difference (CAD)')\n",
        "plots.savefig('ps5_pricing_difference.png', bbox_inches = 'tight')"
      ],
      "metadata": {
        "colab": {
          "base_uri": "https://localhost:8080/",
          "height": 562
        },
        "id": "b3ETs4v7XxLO",
        "outputId": "a3abe557-c230-42ad-e847-faa064067984"
      },
      "execution_count": null,
      "outputs": [
        {
          "output_type": "display_data",
          "data": {
            "text/plain": [
              "<Figure size 600x550 with 1 Axes>"
            ],
            "image/png": "[encoded data removed]"
          },
          "metadata": {}
        }
      ]
    },
    {
      "cell_type": "markdown",
      "source": [
        "# External Factor: Purchasing Power Index"
      ],
      "metadata": {
        "id": "o8pNhygeS4Lq"
      }
    },
    {
      "cell_type": "markdown",
      "source": [
        "We thought that the purchasing power of different currencies could have an effect on the pricing difference of the PS5 in various countries. To see if this is the case, we will first scrape the web for the purchasing power index of the currencies we need and add them to our table."
      ],
      "metadata": {
        "id": "qrDSgmccS_oY"
      }
    },
    {
      "cell_type": "code",
      "source": [
        "# identify an external factor, join it with the ps5 pricing table, and plot the result\n",
        "# we are using the purhcasing power index for our comparison\n",
        "PPI_url = 'https://worldpopulationreview.com/country-rankings/cost-of-living-by-country'\n",
        "PPI_request = requests.get(PPI_url)\n",
        "PPI_soup = BeautifulSoup(PPI_request.text, 'html.parser')\n",
        "PPI_tables = PPI_soup.find_all('table')\n",
        "PPI_table = PPI_tables[3]\n",
        "PPI_data = scrape_table(PPI_table)\n",
        "\n",
        "PPI_tbl = PPI_data.select('Country', 'LPPI (Numbeo 2023)') # select only the rows I am using\n",
        "ps5_pricing_joined = ps5_pricing_tbl.join('Country', PPI_tbl, 'Country') # join the tables by country\n",
        "ps5_pricing_joined = ps5_pricing_joined.relabeled('LPPI (Numbeo 2023)', 'Purchasing Power Index') # cleaning up labels for readability\n",
        "ps5_pricing_joined"
      ],
      "metadata": {
        "colab": {
          "base_uri": "https://localhost:8080/",
          "height": 448
        },
        "id": "1v4kBEecYUdn",
        "outputId": "61e32ab7-4135-4f1c-a6ba-5a87e4c718bd"
      },
      "execution_count": null,
      "outputs": [
        {
          "output_type": "stream",
          "name": "stderr",
          "text": [
            "<ipython-input-3-fa3cfb19b358>:4: FutureWarning: Passing literal html to 'read_html' is deprecated and will be removed in a future version. To read from a literal string, wrap it in a 'StringIO' object.\n",
            "  df = pd.read_html(str(table))\n"
          ]
        },
        {
          "output_type": "execute_result",
          "data": {
            "text/plain": [
              "Country      | Local Price | Code | Price (CAD) | Difference | Purchasing Power Index\n",
              "Australia    | 815.83      | AUD  | 741.66      | 83.19      | 89.3\n",
              "Brazil       | 4873.21     | BRL  | 1154.79     | 496.32     | 28\n",
              "Canada       | 658.47      | CAD  | 658.47      | 0          | 90.9\n",
              "China        | 6082.4      | CNY  | 1178.76     | 520.29     | 58.2\n",
              "France       | 555.48      | EUR  | 829.08      | 170.61     | 81.5\n",
              "Germany      | 478.02      | EUR  | 713.46      | 54.99      | 100.2\n",
              "Japan        | 70376.6     | JPY  | 654.24      | -4.23      | 94.3\n",
              "Mexico       | 13368.9     | MXN  | 909.45      | 250.98     | 39.9\n",
              "Poland       | 2735.54     | PLN  | 943.29      | 284.82     | 59.9\n",
              "South Africa | 13266.6     | ZAR  | 1023.66     | 365.19     | 78.1\n",
              "... (1 rows omitted)"
            ],
            "text/html": [
              "<table border=\"1\" class=\"dataframe\">\n",
              "    <thead>\n",
              "        <tr>\n",
              "            <th>Country</th> <th>Local Price</th> <th>Code</th> <th>Price (CAD)</th> <th>Difference</th> <th>Purchasing Power Index</th>\n",
              "        </tr>\n",
              "    </thead>\n",
              "    <tbody>\n",
              "        <tr>\n",
              "            <td>Australia   </td> <td>815.83     </td> <td>AUD </td> <td>741.66     </td> <td>83.19     </td> <td>89.3                  </td>\n",
              "        </tr>\n",
              "        <tr>\n",
              "            <td>Brazil      </td> <td>4873.21    </td> <td>BRL </td> <td>1154.79    </td> <td>496.32    </td> <td>28                    </td>\n",
              "        </tr>\n",
              "        <tr>\n",
              "            <td>Canada      </td> <td>658.47     </td> <td>CAD </td> <td>658.47     </td> <td>0         </td> <td>90.9                  </td>\n",
              "        </tr>\n",
              "        <tr>\n",
              "            <td>China       </td> <td>6082.4     </td> <td>CNY </td> <td>1178.76    </td> <td>520.29    </td> <td>58.2                  </td>\n",
              "        </tr>\n",
              "        <tr>\n",
              "            <td>France      </td> <td>555.48     </td> <td>EUR </td> <td>829.08     </td> <td>170.61    </td> <td>81.5                  </td>\n",
              "        </tr>\n",
              "        <tr>\n",
              "            <td>Germany     </td> <td>478.02     </td> <td>EUR </td> <td>713.46     </td> <td>54.99     </td> <td>100.2                 </td>\n",
              "        </tr>\n",
              "        <tr>\n",
              "            <td>Japan       </td> <td>70376.6    </td> <td>JPY </td> <td>654.24     </td> <td>-4.23     </td> <td>94.3                  </td>\n",
              "        </tr>\n",
              "        <tr>\n",
              "            <td>Mexico      </td> <td>13368.9    </td> <td>MXN </td> <td>909.45     </td> <td>250.98    </td> <td>39.9                  </td>\n",
              "        </tr>\n",
              "        <tr>\n",
              "            <td>Poland      </td> <td>2735.54    </td> <td>PLN </td> <td>943.29     </td> <td>284.82    </td> <td>59.9                  </td>\n",
              "        </tr>\n",
              "        <tr>\n",
              "            <td>South Africa</td> <td>13266.6    </td> <td>ZAR </td> <td>1023.66    </td> <td>365.19    </td> <td>78.1                  </td>\n",
              "        </tr>\n",
              "    </tbody>\n",
              "</table>\n",
              "<p>... (1 rows omitted)</p>"
            ]
          },
          "metadata": {},
          "execution_count": 19
        }
      ]
    },
    {
      "cell_type": "markdown",
      "source": [
        "Now let's plot the purchasing power of countries against the difference in price for the PS5 to see if there is any correlation."
      ],
      "metadata": {
        "id": "8tLOeyK2nBE3"
      }
    },
    {
      "cell_type": "code",
      "source": [
        "# creating a scatter plot of the price difference vs the purchasing power index\n",
        "ps5_pricing_joined.scatter('Difference', 'Purchasing Power Index')\n",
        "plots.title('Purchasing Power Index vs. PS5 Pricing Difference')\n",
        "plots.xlabel('Difference (CAD)')\n",
        "plots.savefig('ppi_vs_ps5_pricing.png', bbox_inches = 'tight')"
      ],
      "metadata": {
        "colab": {
          "base_uri": "https://localhost:8080/",
          "height": 521
        },
        "id": "kmEZAvAJlb2O",
        "outputId": "1f8fb1bf-3397-49e3-a298-c23b4d3a243a"
      },
      "execution_count": null,
      "outputs": [
        {
          "output_type": "display_data",
          "data": {
            "text/plain": [
              "<Figure size 500x500 with 1 Axes>"
            ],
            "image/png": "[encoded data removed]"
          },
          "metadata": {}
        }
      ]
    },
    {
      "cell_type": "markdown",
      "source": [
        "Let's take a look at the correlation coefficient between purchasing power index and the price difference to see how well they are correlated."
      ],
      "metadata": {
        "id": "9LbG6uc4mrd-"
      }
    },
    {
      "cell_type": "code",
      "source": [
        "# calculating correlation coefficient\n",
        "r = correlation(ps5_pricing_joined, 'Difference', 'Purchasing Power Index')\n",
        "r"
      ],
      "metadata": {
        "colab": {
          "base_uri": "https://localhost:8080/"
        },
        "id": "3dUVBsRmnAZv",
        "outputId": "5f3db93e-b9ca-448e-da74-19c5049eaac9"
      },
      "execution_count": null,
      "outputs": [
        {
          "output_type": "execute_result",
          "data": {
            "text/plain": [
              "-0.74980006840100077"
            ]
          },
          "metadata": {},
          "execution_count": 21
        }
      ]
    },
    {
      "cell_type": "markdown",
      "source": [
        "As we can see the correlation is negative and relativley strong. Therefore as purchasing power decreases, the PS5 seems to get more expensive."
      ],
      "metadata": {
        "id": "uhxC41Olnfgx"
      }
    }
  ]
}